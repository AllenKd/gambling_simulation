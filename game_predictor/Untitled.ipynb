{
 "cells": [
  {
   "cell_type": "code",
   "execution_count": 106,
   "metadata": {},
   "outputs": [
    {
     "name": "stdout",
     "output_type": "stream",
     "text": [
      "1.14.0\n"
     ]
    }
   ],
   "source": [
    "from __future__ import absolute_import, division, print_function\n",
    "\n",
    "import tensorflow as tf\n",
    "from tensorflow import keras\n",
    "\n",
    "import numpy as np\n",
    "\n",
    "print(tf.__version__)"
   ]
  },
  {
   "cell_type": "code",
   "execution_count": 107,
   "metadata": {},
   "outputs": [],
   "source": [
    "import pymysql\n",
    "import pandas as pd"
   ]
  },
  {
   "cell_type": "code",
   "execution_count": 108,
   "metadata": {},
   "outputs": [],
   "source": [
    "host = '192.168.99.35'\n",
    "port = 3306\n",
    "user = 'allen'\n",
    "password = 'allen'\n",
    "schema = 'gambling_simulation'\n",
    "sql_conn = pymysql.connect(host=host, user=user, passwd=password, db=schema, charset='utf8')"
   ]
  },
  {
   "cell_type": "code",
   "execution_count": 109,
   "metadata": {},
   "outputs": [],
   "source": [
    "game_data = pd.read_sql('SELECT * FROM {}'.format('game_data'), con=sql_conn, index_col='game_id')"
   ]
  },
  {
   "cell_type": "code",
   "execution_count": 110,
   "metadata": {},
   "outputs": [],
   "source": [
    "prediction_data_am = pd.read_sql('SELECT * FROM {}'.format('prediction_data_all_member'), con=sql_conn, index_col='game_id')"
   ]
  },
  {
   "cell_type": "code",
   "execution_count": 111,
   "metadata": {},
   "outputs": [],
   "source": [
    "game_judgement = pd.read_sql('SELECT * FROM {}'.format('game_judgement'), con=sql_conn, index_col='game_id')"
   ]
  },
  {
   "cell_type": "code",
   "execution_count": 141,
   "metadata": {},
   "outputs": [],
   "source": [
    "game_result = game_judgement['host_win_point_spread_local']"
   ]
  },
  {
   "cell_type": "code",
   "execution_count": 88,
   "metadata": {},
   "outputs": [
    {
     "data": {
      "text/plain": [
       "(1314,)"
      ]
     },
     "execution_count": 88,
     "metadata": {},
     "output_type": "execute_result"
    }
   ],
   "source": [
    "game_result.values.shape"
   ]
  },
  {
   "cell_type": "code",
   "execution_count": 11,
   "metadata": {},
   "outputs": [
    {
     "data": {
      "text/plain": [
       "24"
      ]
     },
     "execution_count": 11,
     "metadata": {},
     "output_type": "execute_result"
    }
   ],
   "source": [
    "len(set(game_data['play_time']))"
   ]
  },
  {
   "cell_type": "code",
   "execution_count": 15,
   "metadata": {},
   "outputs": [
    {
     "data": {
      "text/plain": [
       "32"
      ]
     },
     "execution_count": 15,
     "metadata": {},
     "output_type": "execute_result"
    }
   ],
   "source": [
    "len(set(game_data['guest']))"
   ]
  },
  {
   "cell_type": "code",
   "execution_count": 16,
   "metadata": {},
   "outputs": [
    {
     "data": {
      "text/plain": [
       "32"
      ]
     },
     "execution_count": 16,
     "metadata": {},
     "output_type": "execute_result"
    }
   ],
   "source": [
    "len(set(game_data['host']))"
   ]
  },
  {
   "cell_type": "code",
   "execution_count": 113,
   "metadata": {},
   "outputs": [],
   "source": [
    "game_data['guest'] = pd.Categorical(game_data['guest'])"
   ]
  },
  {
   "cell_type": "code",
   "execution_count": 114,
   "metadata": {},
   "outputs": [],
   "source": [
    "guest_one_hot = pd.get_dummies(game_data['guest'], prefix='guest')"
   ]
  },
  {
   "cell_type": "code",
   "execution_count": 115,
   "metadata": {},
   "outputs": [],
   "source": [
    "host_one_hot = pd.get_dummies(game_data['host'], prefix='host')"
   ]
  },
  {
   "cell_type": "code",
   "execution_count": 116,
   "metadata": {},
   "outputs": [],
   "source": [
    "time_one_hot = pd.get_dummies(game_data['play_time'], prefix='time')"
   ]
  },
  {
   "cell_type": "code",
   "execution_count": 228,
   "metadata": {},
   "outputs": [],
   "source": [
    "train_columns_from_game_data = [\n",
    "#     'national_host_point_spread',\n",
    "#     'national_total_point_threshold',\n",
    "#     'response_ratio_if_hit_spread_point',\n",
    "    'local_host_point_spread',\n",
    "    'local_host_point_spread_response_ratio',\n",
    "#     'local_total_point_threshold',\n",
    "#     'local_total_point_threshold_response_ratio'\n",
    "]\n",
    "\n",
    "train_columns_from_prediction = [\n",
    "#     'percentage_national_point_spread_guest',\n",
    "#     'percentage_national_point_spread_host',\n",
    "#     'population_national_point_spread_guest',\n",
    "#     'population_national_point_spread_host',\n",
    "\n",
    "#     'percentage_national_total_point_over',\n",
    "#     'percentage_national_total_point_under',\n",
    "#     'population_national_total_point_over',\n",
    "#     'population_national_total_point_under',\n",
    "\n",
    "#     'percentage_local_point_spread_guest',\n",
    "#     'percentage_local_point_spread_host',\n",
    "    'population_local_point_spread_guest',\n",
    "    'population_local_point_spread_host',\n",
    "\n",
    "#     'percentage_local_total_point_over',\n",
    "#     'percentage_local_total_point_under',\n",
    "#     'population_local_total_point_over',\n",
    "#     'population_local_total_point_under',\n",
    "\n",
    "#     'percentage_local_original_guest',\n",
    "#     'percentage_local_original_host',\n",
    "#     'population_local_original_guest',\n",
    "#     'population_local_original_host',\n",
    "    'confidence'\n",
    "]"
   ]
  },
  {
   "cell_type": "code",
   "execution_count": 232,
   "metadata": {},
   "outputs": [],
   "source": [
    "prepared_data = game_data[train_columns_from_game_data]"
   ]
  },
  {
   "cell_type": "code",
   "execution_count": 233,
   "metadata": {},
   "outputs": [],
   "source": [
    "prepared_data = prepared_data.join(guest_one_hot)"
   ]
  },
  {
   "cell_type": "code",
   "execution_count": 234,
   "metadata": {},
   "outputs": [],
   "source": [
    "prepared_data = prepared_data.join(host_one_hot)"
   ]
  },
  {
   "cell_type": "code",
   "execution_count": 235,
   "metadata": {},
   "outputs": [],
   "source": [
    "prepared_data = prepared_data.join(time_one_hot)"
   ]
  },
  {
   "cell_type": "code",
   "execution_count": 199,
   "metadata": {},
   "outputs": [],
   "source": [
    "prepared_data = prepared_data.join(prediction_data_am[train_columns_from_prediction])"
   ]
  },
  {
   "cell_type": "code",
   "execution_count": 230,
   "metadata": {},
   "outputs": [],
   "source": [
    "def get_confidence(row):\n",
    "    return (row['population_local_point_spread_host'] / row['population_local_point_spread_guest'] - 1) * row['population_local_point_spread_host']"
   ]
  },
  {
   "cell_type": "code",
   "execution_count": 237,
   "metadata": {},
   "outputs": [],
   "source": [
    "prediction_data_am['confidence'] = prediction_data_am[train_columns_from_prediction].apply(lambda row: get_confidence(row), axis=1)"
   ]
  },
  {
   "cell_type": "code",
   "execution_count": 236,
   "metadata": {},
   "outputs": [
    {
     "ename": "ValueError",
     "evalue": "Other Series must have a name",
     "output_type": "error",
     "traceback": [
      "\u001b[0;31m---------------------------------------------------------------------------\u001b[0m",
      "\u001b[0;31mValueError\u001b[0m                                Traceback (most recent call last)",
      "\u001b[0;32m<ipython-input-236-98c55e3d6674>\u001b[0m in \u001b[0;36m<module>\u001b[0;34m\u001b[0m\n\u001b[0;32m----> 1\u001b[0;31m \u001b[0mprepared_data\u001b[0m \u001b[0;34m=\u001b[0m \u001b[0mprepared_data\u001b[0m\u001b[0;34m.\u001b[0m\u001b[0mjoin\u001b[0m\u001b[0;34m(\u001b[0m\u001b[0mprediction_data_am\u001b[0m\u001b[0;34m[\u001b[0m\u001b[0mtrain_columns_from_prediction\u001b[0m\u001b[0;34m]\u001b[0m\u001b[0;34m.\u001b[0m\u001b[0mapply\u001b[0m\u001b[0;34m(\u001b[0m\u001b[0;32mlambda\u001b[0m \u001b[0mrow\u001b[0m\u001b[0;34m:\u001b[0m \u001b[0mget_confidence\u001b[0m\u001b[0;34m(\u001b[0m\u001b[0mrow\u001b[0m\u001b[0;34m)\u001b[0m\u001b[0;34m,\u001b[0m \u001b[0maxis\u001b[0m\u001b[0;34m=\u001b[0m\u001b[0;36m1\u001b[0m\u001b[0;34m)\u001b[0m\u001b[0;34m)\u001b[0m\u001b[0;34m\u001b[0m\u001b[0m\n\u001b[0m",
      "\u001b[0;32m~/PycharmProjects/gambling_simulation/venv/lib/python3.6/site-packages/pandas/core/frame.py\u001b[0m in \u001b[0;36mjoin\u001b[0;34m(self, other, on, how, lsuffix, rsuffix, sort)\u001b[0m\n\u001b[1;32m   6813\u001b[0m         \u001b[0;31m# For SparseDataFrame's benefit\u001b[0m\u001b[0;34m\u001b[0m\u001b[0;34m\u001b[0m\u001b[0m\n\u001b[1;32m   6814\u001b[0m         return self._join_compat(other, on=on, how=how, lsuffix=lsuffix,\n\u001b[0;32m-> 6815\u001b[0;31m                                  rsuffix=rsuffix, sort=sort)\n\u001b[0m\u001b[1;32m   6816\u001b[0m \u001b[0;34m\u001b[0m\u001b[0m\n\u001b[1;32m   6817\u001b[0m     def _join_compat(self, other, on=None, how='left', lsuffix='', rsuffix='',\n",
      "\u001b[0;32m~/PycharmProjects/gambling_simulation/venv/lib/python3.6/site-packages/pandas/core/frame.py\u001b[0m in \u001b[0;36m_join_compat\u001b[0;34m(self, other, on, how, lsuffix, rsuffix, sort)\u001b[0m\n\u001b[1;32m   6822\u001b[0m         \u001b[0;32mif\u001b[0m \u001b[0misinstance\u001b[0m\u001b[0;34m(\u001b[0m\u001b[0mother\u001b[0m\u001b[0;34m,\u001b[0m \u001b[0mSeries\u001b[0m\u001b[0;34m)\u001b[0m\u001b[0;34m:\u001b[0m\u001b[0;34m\u001b[0m\u001b[0m\n\u001b[1;32m   6823\u001b[0m             \u001b[0;32mif\u001b[0m \u001b[0mother\u001b[0m\u001b[0;34m.\u001b[0m\u001b[0mname\u001b[0m \u001b[0;32mis\u001b[0m \u001b[0;32mNone\u001b[0m\u001b[0;34m:\u001b[0m\u001b[0;34m\u001b[0m\u001b[0m\n\u001b[0;32m-> 6824\u001b[0;31m                 \u001b[0;32mraise\u001b[0m \u001b[0mValueError\u001b[0m\u001b[0;34m(\u001b[0m\u001b[0;34m'Other Series must have a name'\u001b[0m\u001b[0;34m)\u001b[0m\u001b[0;34m\u001b[0m\u001b[0m\n\u001b[0m\u001b[1;32m   6825\u001b[0m             \u001b[0mother\u001b[0m \u001b[0;34m=\u001b[0m \u001b[0mDataFrame\u001b[0m\u001b[0;34m(\u001b[0m\u001b[0;34m{\u001b[0m\u001b[0mother\u001b[0m\u001b[0;34m.\u001b[0m\u001b[0mname\u001b[0m\u001b[0;34m:\u001b[0m \u001b[0mother\u001b[0m\u001b[0;34m}\u001b[0m\u001b[0;34m)\u001b[0m\u001b[0;34m\u001b[0m\u001b[0m\n\u001b[1;32m   6826\u001b[0m \u001b[0;34m\u001b[0m\u001b[0m\n",
      "\u001b[0;31mValueError\u001b[0m: Other Series must have a name"
     ]
    }
   ],
   "source": [
    "prepared_data = prepared_data.join(prediction_data_am[train_columns_from_prediction].apply(lambda row: get_confidence(row), axis=1))"
   ]
  },
  {
   "cell_type": "code",
   "execution_count": 214,
   "metadata": {},
   "outputs": [
    {
     "data": {
      "text/plain": [
       "(90,)"
      ]
     },
     "execution_count": 214,
     "metadata": {},
     "output_type": "execute_result"
    }
   ],
   "source": [
    "prepared_data.values[0].shape"
   ]
  },
  {
   "cell_type": "code",
   "execution_count": 220,
   "metadata": {},
   "outputs": [],
   "source": [
    "model = keras.Sequential()"
   ]
  },
  {
   "cell_type": "code",
   "execution_count": 221,
   "metadata": {},
   "outputs": [
    {
     "name": "stdout",
     "output_type": "stream",
     "text": [
      "Model: \"sequential_13\"\n",
      "_________________________________________________________________\n",
      "Layer (type)                 Output Shape              Param #   \n",
      "=================================================================\n",
      "dense_60 (Dense)             (None, 16)                1456      \n",
      "_________________________________________________________________\n",
      "dense_61 (Dense)             (None, 16)                272       \n",
      "_________________________________________________________________\n",
      "dense_62 (Dense)             (None, 1)                 17        \n",
      "=================================================================\n",
      "Total params: 1,745\n",
      "Trainable params: 1,745\n",
      "Non-trainable params: 0\n",
      "_________________________________________________________________\n"
     ]
    }
   ],
   "source": [
    "model.add(keras.layers.Dense(16, activation=tf.nn.relu, input_shape=prepared_data.values[0].shape))\n",
    "model.add(keras.layers.Dense(16, activation=tf.nn.relu))\n",
    "model.add(keras.layers.Dense(1, activation=tf.nn.sigmoid))\n",
    "model.summary()"
   ]
  },
  {
   "cell_type": "code",
   "execution_count": 222,
   "metadata": {},
   "outputs": [],
   "source": [
    "model.compile(optimizer='adam',\n",
    "              loss='binary_crossentropy',\n",
    "              metrics=['acc'])"
   ]
  },
  {
   "cell_type": "code",
   "execution_count": 223,
   "metadata": {},
   "outputs": [],
   "source": [
    "x_val = prepared_data[:len(prepared_data)//2]\n",
    "partial_x_train = prepared_data[len(prepared_data)//2:]\n",
    "\n",
    "y_val = game_result[:len(game_result)//2]\n",
    "partial_y_train = game_result[len(game_result)//2:]"
   ]
  },
  {
   "cell_type": "code",
   "execution_count": 224,
   "metadata": {},
   "outputs": [
    {
     "name": "stdout",
     "output_type": "stream",
     "text": [
      "Train on 657 samples, validate on 657 samples\n",
      "Epoch 1/50\n",
      "657/657 [==============================] - 1s 2ms/sample - loss: 0.7712 - acc: 0.5190 - val_loss: 0.7042 - val_acc: 0.5099\n",
      "Epoch 2/50\n",
      "657/657 [==============================] - 0s 507us/sample - loss: 0.7152 - acc: 0.5008 - val_loss: 0.7002 - val_acc: 0.4855\n",
      "Epoch 3/50\n",
      "657/657 [==============================] - 0s 557us/sample - loss: 0.6990 - acc: 0.4977 - val_loss: 0.7030 - val_acc: 0.4795\n",
      "Epoch 4/50\n",
      "657/657 [==============================] - 0s 490us/sample - loss: 0.6907 - acc: 0.5282 - val_loss: 0.7012 - val_acc: 0.4855\n",
      "Epoch 5/50\n",
      "657/657 [==============================] - 0s 460us/sample - loss: 0.6865 - acc: 0.5205 - val_loss: 0.7020 - val_acc: 0.4840\n",
      "Epoch 6/50\n",
      "657/657 [==============================] - 0s 486us/sample - loss: 0.6829 - acc: 0.5419 - val_loss: 0.7015 - val_acc: 0.4764\n",
      "Epoch 7/50\n",
      "657/657 [==============================] - 0s 552us/sample - loss: 0.6802 - acc: 0.5388 - val_loss: 0.7023 - val_acc: 0.4886\n",
      "Epoch 8/50\n",
      "657/657 [==============================] - 0s 430us/sample - loss: 0.6767 - acc: 0.5708 - val_loss: 0.6998 - val_acc: 0.4977\n",
      "Epoch 9/50\n",
      "657/657 [==============================] - 0s 336us/sample - loss: 0.6716 - acc: 0.6012 - val_loss: 0.7035 - val_acc: 0.4977\n",
      "Epoch 10/50\n",
      "657/657 [==============================] - 0s 384us/sample - loss: 0.6686 - acc: 0.6012 - val_loss: 0.7020 - val_acc: 0.5114\n",
      "Epoch 11/50\n",
      "657/657 [==============================] - 0s 221us/sample - loss: 0.6635 - acc: 0.6210 - val_loss: 0.7042 - val_acc: 0.5084\n",
      "Epoch 12/50\n",
      "657/657 [==============================] - 0s 295us/sample - loss: 0.6589 - acc: 0.6195 - val_loss: 0.7056 - val_acc: 0.5084\n",
      "Epoch 13/50\n",
      "657/657 [==============================] - 0s 432us/sample - loss: 0.6530 - acc: 0.6575 - val_loss: 0.7061 - val_acc: 0.5084\n",
      "Epoch 14/50\n",
      "657/657 [==============================] - 0s 344us/sample - loss: 0.6496 - acc: 0.6408 - val_loss: 0.7085 - val_acc: 0.5038\n",
      "Epoch 15/50\n",
      "657/657 [==============================] - 0s 426us/sample - loss: 0.6445 - acc: 0.6560 - val_loss: 0.7111 - val_acc: 0.5175\n",
      "Epoch 16/50\n",
      "657/657 [==============================] - 0s 330us/sample - loss: 0.6368 - acc: 0.6636 - val_loss: 0.7145 - val_acc: 0.5129\n",
      "Epoch 17/50\n",
      "657/657 [==============================] - 0s 384us/sample - loss: 0.6323 - acc: 0.6469 - val_loss: 0.7075 - val_acc: 0.5160\n",
      "Epoch 18/50\n",
      "657/657 [==============================] - 0s 337us/sample - loss: 0.6226 - acc: 0.6712 - val_loss: 0.7302 - val_acc: 0.5145\n",
      "Epoch 19/50\n",
      "657/657 [==============================] - 0s 321us/sample - loss: 0.6191 - acc: 0.6743 - val_loss: 0.7283 - val_acc: 0.5175\n",
      "Epoch 20/50\n",
      "657/657 [==============================] - 0s 193us/sample - loss: 0.6118 - acc: 0.6758 - val_loss: 0.7332 - val_acc: 0.5205\n",
      "Epoch 21/50\n",
      "657/657 [==============================] - 0s 217us/sample - loss: 0.6054 - acc: 0.6880 - val_loss: 0.7218 - val_acc: 0.5099\n",
      "Epoch 22/50\n",
      "657/657 [==============================] - 0s 565us/sample - loss: 0.5970 - acc: 0.6865 - val_loss: 0.7433 - val_acc: 0.5084\n",
      "Epoch 23/50\n",
      "657/657 [==============================] - 0s 448us/sample - loss: 0.5923 - acc: 0.6941 - val_loss: 0.7368 - val_acc: 0.5297\n",
      "Epoch 24/50\n",
      "657/657 [==============================] - 0s 324us/sample - loss: 0.5846 - acc: 0.6941 - val_loss: 0.7458 - val_acc: 0.5008\n",
      "Epoch 25/50\n",
      "657/657 [==============================] - 0s 497us/sample - loss: 0.5799 - acc: 0.6910 - val_loss: 0.7473 - val_acc: 0.5053\n",
      "Epoch 26/50\n",
      "657/657 [==============================] - 1s 792us/sample - loss: 0.5725 - acc: 0.7032 - val_loss: 0.7681 - val_acc: 0.5084\n",
      "Epoch 27/50\n",
      "657/657 [==============================] - 0s 688us/sample - loss: 0.5645 - acc: 0.7108 - val_loss: 0.7821 - val_acc: 0.4992\n",
      "Epoch 28/50\n",
      "657/657 [==============================] - 0s 508us/sample - loss: 0.5600 - acc: 0.7093 - val_loss: 0.7677 - val_acc: 0.5084\n",
      "Epoch 29/50\n",
      "657/657 [==============================] - 0s 300us/sample - loss: 0.5513 - acc: 0.7230 - val_loss: 0.7791 - val_acc: 0.5099\n",
      "Epoch 30/50\n",
      "657/657 [==============================] - 0s 320us/sample - loss: 0.5429 - acc: 0.7306 - val_loss: 0.7731 - val_acc: 0.5068\n",
      "Epoch 31/50\n",
      "657/657 [==============================] - 0s 231us/sample - loss: 0.5392 - acc: 0.7321 - val_loss: 0.7718 - val_acc: 0.5008\n",
      "Epoch 32/50\n",
      "657/657 [==============================] - 0s 307us/sample - loss: 0.5302 - acc: 0.7458 - val_loss: 0.8118 - val_acc: 0.5008\n",
      "Epoch 33/50\n",
      "657/657 [==============================] - 0s 216us/sample - loss: 0.5255 - acc: 0.7397 - val_loss: 0.8053 - val_acc: 0.4977\n",
      "Epoch 34/50\n",
      "657/657 [==============================] - 0s 254us/sample - loss: 0.5180 - acc: 0.7549 - val_loss: 0.8249 - val_acc: 0.5038\n",
      "Epoch 35/50\n",
      "657/657 [==============================] - 0s 189us/sample - loss: 0.5086 - acc: 0.7580 - val_loss: 0.8053 - val_acc: 0.5008\n",
      "Epoch 36/50\n",
      "657/657 [==============================] - 0s 235us/sample - loss: 0.5036 - acc: 0.7534 - val_loss: 0.8523 - val_acc: 0.5038\n",
      "Epoch 37/50\n",
      "657/657 [==============================] - 0s 380us/sample - loss: 0.5012 - acc: 0.7626 - val_loss: 0.8565 - val_acc: 0.4992\n",
      "Epoch 38/50\n",
      "657/657 [==============================] - 0s 537us/sample - loss: 0.4895 - acc: 0.7717 - val_loss: 0.8575 - val_acc: 0.5023\n",
      "Epoch 39/50\n",
      "657/657 [==============================] - 0s 369us/sample - loss: 0.4824 - acc: 0.7839 - val_loss: 0.8480 - val_acc: 0.5023\n",
      "Epoch 40/50\n",
      "657/657 [==============================] - 0s 517us/sample - loss: 0.4783 - acc: 0.7793 - val_loss: 0.8653 - val_acc: 0.5008\n",
      "Epoch 41/50\n",
      "657/657 [==============================] - 0s 389us/sample - loss: 0.4664 - acc: 0.7854 - val_loss: 0.9107 - val_acc: 0.5084\n",
      "Epoch 42/50\n",
      "657/657 [==============================] - 0s 538us/sample - loss: 0.4672 - acc: 0.7808 - val_loss: 0.8878 - val_acc: 0.5053\n",
      "Epoch 43/50\n",
      "657/657 [==============================] - 0s 456us/sample - loss: 0.4584 - acc: 0.7976 - val_loss: 0.8784 - val_acc: 0.5114\n",
      "Epoch 44/50\n",
      "657/657 [==============================] - 0s 577us/sample - loss: 0.4513 - acc: 0.7960 - val_loss: 0.8882 - val_acc: 0.4992\n",
      "Epoch 45/50\n",
      "657/657 [==============================] - 0s 471us/sample - loss: 0.4423 - acc: 0.8006 - val_loss: 0.9222 - val_acc: 0.4992\n",
      "Epoch 46/50\n",
      "657/657 [==============================] - 1s 807us/sample - loss: 0.4360 - acc: 0.8082 - val_loss: 0.9129 - val_acc: 0.5008\n",
      "Epoch 47/50\n",
      "657/657 [==============================] - 1s 855us/sample - loss: 0.4325 - acc: 0.8189 - val_loss: 0.9243 - val_acc: 0.5053\n",
      "Epoch 48/50\n",
      "657/657 [==============================] - 1s 788us/sample - loss: 0.4217 - acc: 0.8204 - val_loss: 0.9528 - val_acc: 0.5008\n",
      "Epoch 49/50\n",
      "657/657 [==============================] - 0s 722us/sample - loss: 0.4175 - acc: 0.8250 - val_loss: 0.9829 - val_acc: 0.5038\n",
      "Epoch 50/50\n",
      "657/657 [==============================] - 0s 761us/sample - loss: 0.4069 - acc: 0.8356 - val_loss: 0.9742 - val_acc: 0.5038\n"
     ]
    }
   ],
   "source": [
    "history = model.fit(partial_x_train,\n",
    "                    partial_y_train,\n",
    "                    epochs=50,\n",
    "                    batch_size=20,\n",
    "                    validation_data=(x_val, y_val),\n",
    "                    verbose=1)"
   ]
  },
  {
   "cell_type": "code",
   "execution_count": 191,
   "metadata": {},
   "outputs": [
    {
     "data": {
      "text/plain": [
       "dict_keys(['loss', 'acc', 'val_loss', 'val_acc'])"
      ]
     },
     "execution_count": 191,
     "metadata": {},
     "output_type": "execute_result"
    }
   ],
   "source": [
    "history_dict = history.history\n",
    "history_dict.keys()"
   ]
  },
  {
   "cell_type": "code",
   "execution_count": 161,
   "metadata": {},
   "outputs": [],
   "source": [
    "%matplotlib inline"
   ]
  },
  {
   "cell_type": "code",
   "execution_count": 225,
   "metadata": {},
   "outputs": [
    {
     "data": {
      "image/png": "[encoded data removed]",
      "text/plain": [
       "<Figure size 432x288 with 1 Axes>"
      ]
     },
     "metadata": {
      "needs_background": "light"
     },
     "output_type": "display_data"
    }
   ],
   "source": [
    "import matplotlib.pyplot as plt\n",
    "\n",
    "acc = history_dict['acc']\n",
    "val_acc = history_dict['val_acc']\n",
    "loss = history_dict['loss']\n",
    "val_loss = history_dict['val_loss']\n",
    "\n",
    "epochs = range(1, len(acc) + 1)\n",
    "\n",
    "# \"bo\" is for \"blue dot\"\n",
    "plt.plot(epochs, loss, 'bo', label='Training loss')\n",
    "# b is for \"solid blue line\"\n",
    "plt.plot(epochs, val_loss, 'b', label='Validation loss')\n",
    "plt.title('Training and validation loss')\n",
    "plt.xlabel('Epochs')\n",
    "plt.ylabel('Loss')\n",
    "plt.legend()\n",
    "\n",
    "plt.show()"
   ]
  },
  {
   "cell_type": "code",
   "execution_count": 226,
   "metadata": {},
   "outputs": [
    {
     "data": {
      "image/png": "[encoded data removed]",
      "text/plain": [
       "<Figure size 432x288 with 1 Axes>"
      ]
     },
     "metadata": {
      "needs_background": "light"
     },
     "output_type": "display_data"
    }
   ],
   "source": [
    "plt.clf()   # clear figure\n",
    "\n",
    "plt.plot(epochs, acc, 'bo', label='Training acc')\n",
    "plt.plot(epochs, val_acc, 'b', label='Validation acc')\n",
    "plt.title('Training and validation accuracy')\n",
    "plt.xlabel('Epochs')\n",
    "plt.ylabel('Accuracy')\n",
    "plt.legend()\n",
    "\n",
    "plt.show()"
   ]
  },
  {
   "cell_type": "code",
   "execution_count": null,
   "metadata": {},
   "outputs": [],
   "source": []
  }
 ],
 "metadata": {
  "kernelspec": {
   "display_name": "game_predictor",
   "language": "python",
   "name": "game_predictor"
  },
  "language_info": {
   "codemirror_mode": {
    "name": "ipython",
    "version": 3
   },
   "file_extension": ".py",
   "mimetype": "text/x-python",
   "name": "python",
   "nbconvert_exporter": "python",
   "pygments_lexer": "ipython3",
   "version": "3.6.5"
  }
 },
 "nbformat": 4,
 "nbformat_minor": 2
}
